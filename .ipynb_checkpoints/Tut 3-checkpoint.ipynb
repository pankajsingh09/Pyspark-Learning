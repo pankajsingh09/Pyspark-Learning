{
 "cells": [
  {
   "cell_type": "code",
   "execution_count": null,
   "id": "a9ae7538",
   "metadata": {},
   "outputs": [],
   "source": [
    "### Pyspark Handling Missing Values\n",
    "Dropping Columns\n",
    "Dropping Rows\n",
    "Various Parameter In Dropping functionalities\n",
    "Handling Missing values by Mean, MEdian And Mode"
   ]
  },
  {
   "cell_type": "code",
   "execution_count": 4,
   "id": "4243fb45",
   "metadata": {},
   "outputs": [],
   "source": [
    "from pyspark.sql import SparkSession"
   ]
  },
  {
   "cell_type": "code",
   "execution_count": null,
   "id": "bda85417",
   "metadata": {},
   "outputs": [],
   "source": [
    "     "
   ]
  }
 ],
 "metadata": {
  "kernelspec": {
   "display_name": "Python 3 (ipykernel)",
   "language": "python",
   "name": "python3"
  },
  "language_info": {
   "codemirror_mode": {
    "name": "ipython",
    "version": 3
   },
   "file_extension": ".py",
   "mimetype": "text/x-python",
   "name": "python",
   "nbconvert_exporter": "python",
   "pygments_lexer": "ipython3",
   "version": "3.9.13"
  }
 },
 "nbformat": 4,
 "nbformat_minor": 5
}
