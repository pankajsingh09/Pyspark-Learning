{
 "cells": [
  {
   "cell_type": "raw",
   "id": "67601063",
   "metadata": {},
   "source": [
    "# In this tutorial we learn about\n",
    "PySpark Dataframe\n",
    "Reading The Dataset\n",
    "Checking the Datatypes of the Column(Schema)\n",
    "Selecting Columns And Indexing\n",
    "Check Describe option similar to Pandas\n",
    "Adding Columns\n",
    "Dropping columns\n",
    "Renaming Columns"
   ]
  },
  {
   "cell_type": "code",
   "execution_count": 2,
   "id": "009195ae",
   "metadata": {},
   "outputs": [],
   "source": [
    "from pyspark.sql import SparkSession"
   ]
  },
  {
   "cell_type": "code",
   "execution_count": 3,
   "id": "185ab595",
   "metadata": {},
   "outputs": [],
   "source": [
    "spark = SparkSession.builder.appName('dataFrame').getOrCreate()"
   ]
  },
  {
   "cell_type": "code",
   "execution_count": 4,
   "id": "0f5082be",
   "metadata": {},
   "outputs": [
    {
     "name": "stdout",
     "output_type": "stream",
     "text": [
      "<pyspark.sql.session.SparkSession object at 0x000001E1D2060C10>\n"
     ]
    }
   ],
   "source": [
    "print(spark)"
   ]
  },
  {
   "cell_type": "code",
   "execution_count": 5,
   "id": "be4a4460",
   "metadata": {},
   "outputs": [],
   "source": [
    "## Read the dataset\n",
    "df_spark = spark.read.option('header', 'true').csv('test.csv', inferSchema=True)"
   ]
  },
  {
   "cell_type": "code",
   "execution_count": 6,
   "id": "c7d36aa7",
   "metadata": {},
   "outputs": [
    {
     "name": "stdout",
     "output_type": "stream",
     "text": [
      "root\n",
      " |-- name: string (nullable = true)\n",
      " |-- age: integer (nullable = true)\n",
      " |-- experience: integer (nullable = true)\n",
      "\n"
     ]
    }
   ],
   "source": [
    "## Check the Schema\n",
    "df_spark.printSchema()"
   ]
  },
  {
   "cell_type": "code",
   "execution_count": 7,
   "id": "fecbe10b",
   "metadata": {},
   "outputs": [
    {
     "name": "stdout",
     "output_type": "stream",
     "text": [
      "+--------+---+----------+\n",
      "|    name|age|experience|\n",
      "+--------+---+----------+\n",
      "|   parth| 23|         2|\n",
      "|anshuman| 29|         8|\n",
      "|  Rakesh| 26|         5|\n",
      "+--------+---+----------+\n",
      "\n"
     ]
    }
   ],
   "source": [
    "df_spark = spark.read.csv('test.csv', header=True, inferSchema=True)\n",
    "df_spark.show()"
   ]
  },
  {
   "cell_type": "code",
   "execution_count": 8,
   "id": "005d0a25",
   "metadata": {},
   "outputs": [
    {
     "data": {
      "text/plain": [
       "pyspark.sql.dataframe.DataFrame"
      ]
     },
     "execution_count": 8,
     "metadata": {},
     "output_type": "execute_result"
    }
   ],
   "source": [
    "type(df_spark)"
   ]
  },
  {
   "cell_type": "code",
   "execution_count": null,
   "id": "5ee1c474",
   "metadata": {},
   "outputs": [],
   "source": [
    "## What is DataFrame\n",
    "## DataFrame is data structure, inside it you can perform various kind of operations"
   ]
  },
  {
   "cell_type": "code",
   "execution_count": 9,
   "id": "77083575",
   "metadata": {},
   "outputs": [
    {
     "data": {
      "text/plain": [
       "['name', 'age', 'experience']"
      ]
     },
     "execution_count": 9,
     "metadata": {},
     "output_type": "execute_result"
    }
   ],
   "source": [
    "## get the columns\n",
    "df_spark.columns"
   ]
  },
  {
   "cell_type": "code",
   "execution_count": 10,
   "id": "db0f532a",
   "metadata": {},
   "outputs": [
    {
     "data": {
      "text/plain": [
       "[Row(name='parth', age=23, experience=2),\n",
       " Row(name='anshuman', age=29, experience=8)]"
      ]
     },
     "execution_count": 10,
     "metadata": {},
     "output_type": "execute_result"
    }
   ],
   "source": [
    "## get the data from head\n",
    "df_spark.head(2)"
   ]
  },
  {
   "cell_type": "code",
   "execution_count": 12,
   "id": "8e24465b",
   "metadata": {},
   "outputs": [
    {
     "data": {
      "text/plain": [
       "DataFrame[name: string]"
      ]
     },
     "execution_count": 12,
     "metadata": {},
     "output_type": "execute_result"
    }
   ],
   "source": [
    "## select a particular row\n",
    "df_spark.select('name')"
   ]
  },
  {
   "cell_type": "code",
   "execution_count": 13,
   "id": "636339a8",
   "metadata": {},
   "outputs": [
    {
     "name": "stdout",
     "output_type": "stream",
     "text": [
      "+--------+\n",
      "|    name|\n",
      "+--------+\n",
      "|   parth|\n",
      "|anshuman|\n",
      "|  Rakesh|\n",
      "+--------+\n",
      "\n"
     ]
    }
   ],
   "source": [
    "## get the entire column detail\n",
    "df_spark.select('name').show()"
   ]
  },
  {
   "cell_type": "code",
   "execution_count": 14,
   "id": "01ff23c9",
   "metadata": {},
   "outputs": [
    {
     "data": {
      "text/plain": [
       "pyspark.sql.dataframe.DataFrame"
      ]
     },
     "execution_count": 14,
     "metadata": {},
     "output_type": "execute_result"
    }
   ],
   "source": [
    "# to check the type of the column\n",
    "type(df_spark.select('name'))"
   ]
  },
  {
   "cell_type": "code",
   "execution_count": 20,
   "id": "cccea5f0",
   "metadata": {},
   "outputs": [
    {
     "name": "stdout",
     "output_type": "stream",
     "text": [
      "+--------+----------+\n",
      "|    Name|Experience|\n",
      "+--------+----------+\n",
      "|   parth|         2|\n",
      "|anshuman|         8|\n",
      "|  Rakesh|         5|\n",
      "+--------+----------+\n",
      "\n"
     ]
    }
   ],
   "source": [
    "# select multiple columns\n",
    "df_spark.select('Name','Experience').show()"
   ]
  },
  {
   "cell_type": "code",
   "execution_count": 21,
   "id": "8d963984",
   "metadata": {},
   "outputs": [
    {
     "data": {
      "text/plain": [
       "[('name', 'string'), ('age', 'int'), ('experience', 'int')]"
      ]
     },
     "execution_count": 21,
     "metadata": {},
     "output_type": "execute_result"
    }
   ],
   "source": [
    "# get the data types of columns\n",
    "df_spark.dtypes"
   ]
  },
  {
   "cell_type": "code",
   "execution_count": 22,
   "id": "7996baba",
   "metadata": {},
   "outputs": [
    {
     "name": "stdout",
     "output_type": "stream",
     "text": [
      "+-------+------+----+----------+\n",
      "|summary|  name| age|experience|\n",
      "+-------+------+----+----------+\n",
      "|  count|     3|   3|         3|\n",
      "|   mean|  null|26.0|       5.0|\n",
      "| stddev|  null| 3.0|       3.0|\n",
      "|    min|Rakesh|  23|         2|\n",
      "|    max| parth|  29|         8|\n",
      "+-------+------+----+----------+\n",
      "\n"
     ]
    }
   ],
   "source": [
    "# Describe\n",
    "df_spark.describe().show()"
   ]
  },
  {
   "cell_type": "code",
   "execution_count": 24,
   "id": "a08e11a5",
   "metadata": {},
   "outputs": [],
   "source": [
    "### Adding columns in data frame\n",
    "df_spark =  df_spark.withColumn('Experience After 2 years',df_spark['experience']+2)"
   ]
  },
  {
   "cell_type": "code",
   "execution_count": 26,
   "id": "09af0f9a",
   "metadata": {},
   "outputs": [
    {
     "name": "stdout",
     "output_type": "stream",
     "text": [
      "+--------+---+----------+------------------------+\n",
      "|    name|age|experience|Experience After 2 years|\n",
      "+--------+---+----------+------------------------+\n",
      "|   parth| 23|         2|                       4|\n",
      "|anshuman| 29|         8|                      10|\n",
      "|  Rakesh| 26|         5|                       7|\n",
      "+--------+---+----------+------------------------+\n",
      "\n"
     ]
    }
   ],
   "source": [
    "df_spark.show()"
   ]
  },
  {
   "cell_type": "code",
   "execution_count": 29,
   "id": "e109db6f",
   "metadata": {},
   "outputs": [],
   "source": [
    "### Drop the column\n",
    "df_spark = df_spark.drop('experience after 2 years')"
   ]
  },
  {
   "cell_type": "code",
   "execution_count": 30,
   "id": "080dc704",
   "metadata": {},
   "outputs": [
    {
     "name": "stdout",
     "output_type": "stream",
     "text": [
      "+--------+---+----------+\n",
      "|    name|age|experience|\n",
      "+--------+---+----------+\n",
      "|   parth| 23|         2|\n",
      "|anshuman| 29|         8|\n",
      "|  Rakesh| 26|         5|\n",
      "+--------+---+----------+\n",
      "\n"
     ]
    }
   ],
   "source": [
    "df_spark.show()"
   ]
  },
  {
   "cell_type": "code",
   "execution_count": 31,
   "id": "4f47e7af",
   "metadata": {},
   "outputs": [
    {
     "name": "stdout",
     "output_type": "stream",
     "text": [
      "+--------+---+----------+\n",
      "|new Name|age|experience|\n",
      "+--------+---+----------+\n",
      "|   parth| 23|         2|\n",
      "|anshuman| 29|         8|\n",
      "|  Rakesh| 26|         5|\n",
      "+--------+---+----------+\n",
      "\n"
     ]
    }
   ],
   "source": [
    "### Rename the columns\n",
    "df_spark.withColumnRenamed('name','new Name').show()"
   ]
  }
 ],
 "metadata": {
  "kernelspec": {
   "display_name": "Python 3 (ipykernel)",
   "language": "python",
   "name": "python3"
  },
  "language_info": {
   "codemirror_mode": {
    "name": "ipython",
    "version": 3
   },
   "file_extension": ".py",
   "mimetype": "text/x-python",
   "name": "python",
   "nbconvert_exporter": "python",
   "pygments_lexer": "ipython3",
   "version": "3.9.13"
  }
 },
 "nbformat": 4,
 "nbformat_minor": 5
}
